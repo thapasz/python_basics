{
 "cells": [
  {
   "cell_type": "markdown",
   "id": "broke-camping",
   "metadata": {},
   "source": [
    "## Basically, a collection of instructions and codes which can be resued within the program"
   ]
  },
  {
   "cell_type": "code",
   "execution_count": 1,
   "id": "revolutionary-beads",
   "metadata": {},
   "outputs": [],
   "source": [
    "##Notice the keyword below \"def\" --it is to mark the begining of the function \n",
    "##Creating our first basic function which prints out hello world when called as functiona()\n",
    "\n",
    "def functiona():   # dont forget this colon\n",
    "    print(\"Hello world\")"
   ]
  },
  {
   "cell_type": "code",
   "execution_count": 3,
   "id": "generous-destination",
   "metadata": {},
   "outputs": [
    {
     "name": "stdout",
     "output_type": "stream",
     "text": [
      "Hello world\n"
     ]
    }
   ],
   "source": [
    "functiona() # calling functiona "
   ]
  },
  {
   "cell_type": "code",
   "execution_count": 22,
   "id": "viral-adobe",
   "metadata": {},
   "outputs": [],
   "source": [
    "##You can also pass a parameter within the function. \n",
    "##Let's create our second function \n",
    "\n",
    "def functionb(name_of_student):\n",
    "    print (\"My name is \" +  name_of_student )"
   ]
  },
  {
   "cell_type": "code",
   "execution_count": 23,
   "id": "vietnamese-yahoo",
   "metadata": {},
   "outputs": [
    {
     "name": "stdout",
     "output_type": "stream",
     "text": [
      "My name is Mark\n"
     ]
    }
   ],
   "source": [
    "functionb(\"Mark\") ## \"Mark\" is being passed as an argument for name in functionb"
   ]
  },
  {
   "cell_type": "code",
   "execution_count": 24,
   "id": "emerging-trouble",
   "metadata": {},
   "outputs": [
    {
     "name": "stdout",
     "output_type": "stream",
     "text": [
      "My name is Mark\n",
      "My name is Tony\n"
     ]
    }
   ],
   "source": [
    "## Lets see if we could pass the names of two students \n",
    "\n",
    "functionb(\"Mark\")\n",
    "functionb(\"Tony\")"
   ]
  },
  {
   "cell_type": "code",
   "execution_count": 25,
   "id": "prescription-thompson",
   "metadata": {},
   "outputs": [],
   "source": [
    "##You can have as many parameters you want\n",
    "##Let's create our third function \n",
    "\n",
    "def functionc (name_of_student, student_age):\n",
    "    print (\"My name is \" + name_of_student )\n",
    "    print (\"I am \" + student_age )\n",
    "    "
   ]
  },
  {
   "cell_type": "code",
   "execution_count": 28,
   "id": "labeled-central",
   "metadata": {},
   "outputs": [
    {
     "name": "stdout",
     "output_type": "stream",
     "text": [
      "My name is Mark\n",
      "I am 7\n"
     ]
    }
   ],
   "source": [
    "functionc(\"Mark\", \"7\")\n",
    "\n",
    "# As you can see, the now you can not only print the name, but also the age!!"
   ]
  },
  {
   "cell_type": "code",
   "execution_count": 29,
   "id": "collectible-stake",
   "metadata": {},
   "outputs": [
    {
     "name": "stdout",
     "output_type": "stream",
     "text": [
      "My name is Mark\n",
      "I am 7\n",
      "My name is Tony\n",
      "I am 9\n"
     ]
    }
   ],
   "source": [
    "##Lets pass on Tony's age as well\n",
    "functionc (\"Mark\", \"7\")\n",
    "functionc (\"Tony\", \"9\")"
   ]
  },
  {
   "cell_type": "markdown",
   "id": "portuguese-press",
   "metadata": {},
   "source": [
    "## Now try to create your own function, which will allow to input a student name, age, and grade as parameters. Good luck :) "
   ]
  },
  {
   "cell_type": "code",
   "execution_count": 32,
   "id": "center-antenna",
   "metadata": {},
   "outputs": [],
   "source": [
    "##One last example:\n",
    "\n",
    "## Let's create a function to return the square of a number \n",
    "\n",
    "def functiond(num):\n",
    "    return num*num"
   ]
  },
  {
   "cell_type": "code",
   "execution_count": 33,
   "id": "academic-appreciation",
   "metadata": {},
   "outputs": [
    {
     "data": {
      "text/plain": [
       "9"
      ]
     },
     "execution_count": 33,
     "metadata": {},
     "output_type": "execute_result"
    }
   ],
   "source": [
    "functiond(3) # let's assume num = 3 "
   ]
  },
  {
   "cell_type": "code",
   "execution_count": 34,
   "id": "literary-weapon",
   "metadata": {},
   "outputs": [
    {
     "data": {
      "text/plain": [
       "25"
      ]
     },
     "execution_count": 34,
     "metadata": {},
     "output_type": "execute_result"
    }
   ],
   "source": [
    "functiond(5) #let's assume num = 5 "
   ]
  },
  {
   "cell_type": "code",
   "execution_count": 35,
   "id": "otherwise-passport",
   "metadata": {},
   "outputs": [],
   "source": [
    "a = functiond(5) #we cou"
   ]
  },
  {
   "cell_type": "code",
   "execution_count": 36,
   "id": "french-shirt",
   "metadata": {},
   "outputs": [
    {
     "name": "stdout",
     "output_type": "stream",
     "text": [
      "25\n"
     ]
    }
   ],
   "source": [
    "print(a)"
   ]
  },
  {
   "cell_type": "markdown",
   "id": "bizarre-joint",
   "metadata": {},
   "source": [
    "## Now try to create a funciton which converts temperature in F into Celcius. Good luck :) "
   ]
  }
 ],
 "metadata": {
  "kernelspec": {
   "display_name": "Python 3",
   "language": "python",
   "name": "python3"
  },
  "language_info": {
   "codemirror_mode": {
    "name": "ipython",
    "version": 3
   },
   "file_extension": ".py",
   "mimetype": "text/x-python",
   "name": "python",
   "nbconvert_exporter": "python",
   "pygments_lexer": "ipython3",
   "version": "3.8.5"
  }
 },
 "nbformat": 4,
 "nbformat_minor": 5
}
