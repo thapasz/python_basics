{
 "cells": [
  {
   "cell_type": "markdown",
   "id": "9c9e11fc",
   "metadata": {},
   "source": [
    "## I am attempting to mention few points about python data types - esp., lists, tuples and sets"
   ]
  },
  {
   "cell_type": "markdown",
   "id": "23455898",
   "metadata": {},
   "source": [
    "## Lists -  Python lists are basically ordered sequences of values wihtin [  ]. \n"
   ]
  },
  {
   "cell_type": "code",
   "execution_count": 6,
   "id": "caf185bc",
   "metadata": {},
   "outputs": [],
   "source": [
    "\n",
    "cars = ['Honda', 'Ford', 'Mitsubishi', 'Nissan'] #list of cars within variable \"cars\" separated by comma . "
   ]
  },
  {
   "cell_type": "code",
   "execution_count": 7,
   "id": "73182948",
   "metadata": {},
   "outputs": [
    {
     "name": "stdout",
     "output_type": "stream",
     "text": [
      "['Honda', 'Ford', 'Mitsubishi', 'Nissan']\n"
     ]
    }
   ],
   "source": [
    "print (cars) # print the values"
   ]
  },
  {
   "cell_type": "code",
   "execution_count": 8,
   "id": "67b060e8",
   "metadata": {},
   "outputs": [
    {
     "data": {
      "text/plain": [
       "'Honda'"
      ]
     },
     "execution_count": 8,
     "metadata": {},
     "output_type": "execute_result"
    }
   ],
   "source": [
    "cars [0]  #You can access individual values wihtin the list by providing the index (location) of those values within\n",
    "          # the list"
   ]
  },
  {
   "cell_type": "markdown",
   "id": "a0de941d",
   "metadata": {},
   "source": [
    "### python lists are 0-indexed, meaning the first index is 0, not 1 as expected"
   ]
  },
  {
   "cell_type": "code",
   "execution_count": 9,
   "id": "bed7c047",
   "metadata": {},
   "outputs": [
    {
     "data": {
      "text/plain": [
       "'Mitsubishi'"
      ]
     },
     "execution_count": 9,
     "metadata": {},
     "output_type": "execute_result"
    }
   ],
   "source": [
    "cars [2]"
   ]
  },
  {
   "cell_type": "code",
   "execution_count": 10,
   "id": "71cb6a68",
   "metadata": {},
   "outputs": [
    {
     "name": "stdout",
     "output_type": "stream",
     "text": [
      "['Ford', 'Mitsubishi']\n"
     ]
    }
   ],
   "source": [
    "# You can also choose more than one values by providing a range of indices. For example; \n",
    "print (cars[1:3]) #this range prints n to n-1 values as specified. "
   ]
  },
  {
   "cell_type": "markdown",
   "id": "56d121b5",
   "metadata": {},
   "source": [
    "### lists are mutable. This is very important attribute of python lists. It allows us to alter the values within the list"
   ]
  },
  {
   "cell_type": "code",
   "execution_count": 12,
   "id": "60c1f9ec",
   "metadata": {},
   "outputs": [
    {
     "name": "stdout",
     "output_type": "stream",
     "text": [
      "['Honda', 'Peugeot', 'Mitsubishi', 'Nissan']\n"
     ]
    }
   ],
   "source": [
    "# For instance, you want to change 'Ford' for 'Peugeot'. There are defintely much more applicable usage of \n",
    "# mutable python lists. \n",
    "\n",
    "cars [1] = 'Peugeot'\n",
    "print (cars)"
   ]
  },
  {
   "cell_type": "code",
   "execution_count": 13,
   "id": "88bedbf3",
   "metadata": {},
   "outputs": [
    {
     "name": "stdout",
     "output_type": "stream",
     "text": [
      "['Honda', 'Peugeot', 'Toyota', 'Hyundai', 'Nissan']\n"
     ]
    }
   ],
   "source": [
    "cars [2:3] = ['Toyota', 'Hyundai']\n",
    "print (cars)"
   ]
  },
  {
   "cell_type": "markdown",
   "id": "73f61e41",
   "metadata": {},
   "source": [
    "## Tuples - Python tuples are ordered sequences of values (like lists) witihin ()"
   ]
  },
  {
   "cell_type": "code",
   "execution_count": 25,
   "id": "9f9aa3e8",
   "metadata": {},
   "outputs": [],
   "source": [
    "cars_1 = ('Honda', 'Ford', 'Mitsubishi', 'Nissan') # values within variable cars_1"
   ]
  },
  {
   "cell_type": "code",
   "execution_count": 22,
   "id": "4bcc8871",
   "metadata": {},
   "outputs": [
    {
     "name": "stdout",
     "output_type": "stream",
     "text": [
      "('Honda', 'Ford', 'Mitsubishi', 'Nissan')\n"
     ]
    }
   ],
   "source": [
    "print (cars_1)"
   ]
  },
  {
   "cell_type": "code",
   "execution_count": 23,
   "id": "1fad2349",
   "metadata": {},
   "outputs": [
    {
     "data": {
      "text/plain": [
       "'Honda'"
      ]
     },
     "execution_count": 23,
     "metadata": {},
     "output_type": "execute_result"
    }
   ],
   "source": [
    "cars_1 [0] #You can call tuple objects same as the lists "
   ]
  },
  {
   "cell_type": "markdown",
   "id": "65d95e87",
   "metadata": {},
   "source": [
    "### tuples are immutable. You are better off using tuple when the values within does/should not change"
   ]
  },
  {
   "cell_type": "code",
   "execution_count": 24,
   "id": "5e261d39",
   "metadata": {},
   "outputs": [
    {
     "ename": "TypeError",
     "evalue": "'tuple' object does not support item assignment",
     "output_type": "error",
     "traceback": [
      "\u001b[0;31m---------------------------------------------------------------------------\u001b[0m",
      "\u001b[0;31mTypeError\u001b[0m                                 Traceback (most recent call last)",
      "\u001b[0;32m<ipython-input-24-38b83fdecfa9>\u001b[0m in \u001b[0;36m<module>\u001b[0;34m\u001b[0m\n\u001b[0;32m----> 1\u001b[0;31m \u001b[0mcars_1\u001b[0m \u001b[0;34m[\u001b[0m\u001b[0;36m1\u001b[0m\u001b[0;34m]\u001b[0m \u001b[0;34m=\u001b[0m \u001b[0;34m'Peugeot'\u001b[0m\u001b[0;34m\u001b[0m\u001b[0;34m\u001b[0m\u001b[0m\n\u001b[0m\u001b[1;32m      2\u001b[0m \u001b[0mprint\u001b[0m \u001b[0;34m(\u001b[0m\u001b[0mcars\u001b[0m\u001b[0;34m)\u001b[0m\u001b[0;34m\u001b[0m\u001b[0;34m\u001b[0m\u001b[0m\n",
      "\u001b[0;31mTypeError\u001b[0m: 'tuple' object does not support item assignment"
     ]
    }
   ],
   "source": [
    "cars_1 [1] = 'Peugeot'\n",
    "print (cars)"
   ]
  },
  {
   "cell_type": "markdown",
   "id": "11ebaef0",
   "metadata": {},
   "source": [
    "## Sets - Python sets are basically collection of unique (non-duplicate) unordered values within {}"
   ]
  },
  {
   "cell_type": "code",
   "execution_count": 30,
   "id": "8cd7d874",
   "metadata": {},
   "outputs": [],
   "source": [
    "cars_2 = {'Honda', 'Ford', 'Mitsubishi', 'Nissan'} # values within variable cars_2"
   ]
  },
  {
   "cell_type": "code",
   "execution_count": 31,
   "id": "4dd3dba8",
   "metadata": {},
   "outputs": [
    {
     "name": "stdout",
     "output_type": "stream",
     "text": [
      "{'Mitsubishi', 'Honda', 'Ford', 'Nissan'}\n"
     ]
    }
   ],
   "source": [
    "print (cars_2)"
   ]
  },
  {
   "cell_type": "markdown",
   "id": "b68372fa",
   "metadata": {},
   "source": [
    "### In the above cell, see how the print gives out different order of the values"
   ]
  },
  {
   "cell_type": "code",
   "execution_count": 36,
   "id": "9fa03525",
   "metadata": {},
   "outputs": [],
   "source": [
    "#Let's have a duplicate value --'Ford'\n",
    "cars_2 = {'Honda', 'Ford', 'Mitsubishi', 'Nissan', 'Ford'}"
   ]
  },
  {
   "cell_type": "code",
   "execution_count": 37,
   "id": "2ca30c23",
   "metadata": {},
   "outputs": [
    {
     "name": "stdout",
     "output_type": "stream",
     "text": [
      "{'Mitsubishi', 'Honda', 'Ford', 'Nissan'}\n"
     ]
    }
   ],
   "source": [
    "print (cars_2) # you will see that it will get rid of the duplicate value"
   ]
  },
  {
   "cell_type": "code",
   "execution_count": null,
   "id": "9583012c",
   "metadata": {},
   "outputs": [],
   "source": []
  }
 ],
 "metadata": {
  "kernelspec": {
   "display_name": "Python 3",
   "language": "python",
   "name": "python3"
  },
  "language_info": {
   "codemirror_mode": {
    "name": "ipython",
    "version": 3
   },
   "file_extension": ".py",
   "mimetype": "text/x-python",
   "name": "python",
   "nbconvert_exporter": "python",
   "pygments_lexer": "ipython3",
   "version": "3.9.1"
  }
 },
 "nbformat": 4,
 "nbformat_minor": 5
}
