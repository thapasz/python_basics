{
 "cells": [
  {
   "cell_type": "markdown",
   "id": "a598cbe7",
   "metadata": {},
   "source": [
    "## List comprehension: basically creating a new list by using for loops in more informal manner (one line for loop, basically)"
   ]
  },
  {
   "cell_type": "code",
   "execution_count": 1,
   "id": "13b8c677",
   "metadata": {},
   "outputs": [],
   "source": [
    "my_list = [0,2,4,6,8,10]"
   ]
  },
  {
   "cell_type": "code",
   "execution_count": 2,
   "id": "dde3a66e",
   "metadata": {},
   "outputs": [
    {
     "data": {
      "text/plain": [
       "[0, 2, 4, 6, 8, 10]"
      ]
     },
     "execution_count": 2,
     "metadata": {},
     "output_type": "execute_result"
    }
   ],
   "source": [
    "my_list"
   ]
  },
  {
   "cell_type": "code",
   "execution_count": 6,
   "id": "822d9f3c",
   "metadata": {},
   "outputs": [
    {
     "name": "stdout",
     "output_type": "stream",
     "text": [
      "[0, 4, 16, 36, 64, 100]\n"
     ]
    }
   ],
   "source": [
    "#let's say we want to create a loop that gives the square of the numbers in my_list\n",
    "\n",
    "my_list_sq = []  #let's create an empty list \n",
    "\n",
    "for x in my_list:\n",
    "    my_list_sq.append( x ** 2)  # for each num in the my_list, append or add the square of the num to my new list \n",
    "                                # my_list_sq\n",
    "print (my_list_sq)"
   ]
  },
  {
   "cell_type": "code",
   "execution_count": 7,
   "id": "dd1f5fcf",
   "metadata": {},
   "outputs": [
    {
     "name": "stdout",
     "output_type": "stream",
     "text": [
      "[0, 4, 16, 36, 64, 100]\n"
     ]
    }
   ],
   "source": [
    "#The same list can be created using LIST COMPREHENSION as \n",
    "\n",
    "new_my_list_sq = [x ** 2 for x in my_list]  # one liner code to get the same list [You can read it as: \n",
    "                                            # I want sqaures (x **2) of x in my_list--->list comprehension]\n",
    "print(new_my_list_sq)"
   ]
  },
  {
   "cell_type": "code",
   "execution_count": 32,
   "id": "99a243af",
   "metadata": {},
   "outputs": [
    {
     "name": "stdout",
     "output_type": "stream",
     "text": [
      "[1, 3, 5, 7, 9]\n"
     ]
    }
   ],
   "source": [
    "#Check for odd numbers in a range \n",
    "num = []        #let's create an empty list \n",
    "\n",
    "for x in range (1,11):    # for numbers in the range of 1 to 11, if that number divided by 2 returns a non-zero remainder\n",
    "                          \n",
    "    if x%2 != 0:\n",
    "        num.append(x)     # add that number to the list\n",
    "print(num)"
   ]
  },
  {
   "cell_type": "code",
   "execution_count": 33,
   "id": "5c6114f4",
   "metadata": {},
   "outputs": [
    {
     "name": "stdout",
     "output_type": "stream",
     "text": [
      "[1, 3, 5, 7, 9]\n"
     ]
    }
   ],
   "source": [
    "# The same list can be created using list comprehension as \n",
    "lst = [x for x in range(1,11) if x % 2 != 0]\n",
    "print (lst)"
   ]
  },
  {
   "cell_type": "markdown",
   "id": "b39ca6a2",
   "metadata": {},
   "source": [
    "## Now, try to make a for loop to print the list of even numbers from a range of numbers of your choice. Then make a list comprehension to do the same. Good luck :) "
   ]
  },
  {
   "cell_type": "code",
   "execution_count": null,
   "id": "cfdd718d",
   "metadata": {},
   "outputs": [],
   "source": []
  }
 ],
 "metadata": {
  "kernelspec": {
   "display_name": "Python 3",
   "language": "python",
   "name": "python3"
  },
  "language_info": {
   "codemirror_mode": {
    "name": "ipython",
    "version": 3
   },
   "file_extension": ".py",
   "mimetype": "text/x-python",
   "name": "python",
   "nbconvert_exporter": "python",
   "pygments_lexer": "ipython3",
   "version": "3.9.1"
  }
 },
 "nbformat": 4,
 "nbformat_minor": 5
}
