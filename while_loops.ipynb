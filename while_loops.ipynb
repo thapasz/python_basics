{
 "cells": [
  {
   "cell_type": "markdown",
   "id": "347d6149",
   "metadata": {},
   "source": [
    "## while loops: basically used for iteration. The while statement will execute a code block as long as certain condition is true. This becomes really powerful when you are not sure of #s of loop you need to execute such as going over the list of numbers and adding certain numbers as long as the conditions are satisfied. "
   ]
  },
  {
   "cell_type": "code",
   "execution_count": 1,
   "id": "c09cfc69",
   "metadata": {},
   "outputs": [
    {
     "data": {
      "text/plain": [
       "0"
      ]
     },
     "execution_count": 1,
     "metadata": {},
     "output_type": "execute_result"
    }
   ],
   "source": [
    "4 % 2 # \"%\" or modulus operation in python is used to return the remainder of a division problem"
   ]
  },
  {
   "cell_type": "code",
   "execution_count": 9,
   "id": "3a14deb8",
   "metadata": {
    "scrolled": true
   },
   "outputs": [
    {
     "name": "stdout",
     "output_type": "stream",
     "text": [
      "0\n",
      "1\n",
      "2\n",
      "3\n",
      "4\n"
     ]
    }
   ],
   "source": [
    "x = 0   \n",
    "\n",
    "while x < 5: # while x is less than 5 <---this being the condition here \n",
    "    \n",
    "    print(x) #leaving the code block at this stage will create infinite loop. You need to make sure\n",
    "            ## to increase the value of the iterator at the end so that the condition above (x < 5) can be satisfied\n",
    "        \n",
    "    x = x + 1  # Also, written as x += 1; increases the iterator value by 1 "
   ]
  },
  {
   "cell_type": "markdown",
   "id": "c074e7b6",
   "metadata": {},
   "source": [
    "### In the code above, first x = 0 will be printed, then x becomes 1 as the value is increased by 1 at the end of the code. Then that becomes the output (1) and gets printed on the second row above. This continues as long as x is less than 5. "
   ]
  },
  {
   "cell_type": "code",
   "execution_count": 10,
   "id": "4c11ace8",
   "metadata": {
    "scrolled": true
   },
   "outputs": [
    {
     "name": "stdout",
     "output_type": "stream",
     "text": [
      "0\n",
      "1\n",
      "2\n",
      "3\n",
      "4\n",
      "5\n"
     ]
    }
   ],
   "source": [
    "x = 0   \n",
    "\n",
    "while x <= 5: # while x is less than OR EQUAL to 5 <---this being the condition here \n",
    "    \n",
    "    print(x) #leaving the code block at this stage will create infinite loop. You need to make sure\n",
    "            ## to increase the value of the iterator at the end so that the condition above (x < 5) can be satisfied\n",
    "        \n",
    "    x = x + 1  # Also, written as x += 1; increases the iterator value by 1 "
   ]
  },
  {
   "cell_type": "code",
   "execution_count": 11,
   "id": "a89bdb59",
   "metadata": {},
   "outputs": [
    {
     "name": "stdout",
     "output_type": "stream",
     "text": [
      "This is even:  0\n",
      "This is odd:  1\n",
      "This is even:  2\n",
      "This is odd:  3\n",
      "This is even:  4\n",
      "This is odd:  5\n",
      "This is even:  6\n",
      "This is odd:  7\n",
      "This is even:  8\n",
      "This is odd:  9\n"
     ]
    }
   ],
   "source": [
    "\n",
    "x = 0\n",
    "\n",
    "while x < 10: # given condition \n",
    "    if x%2 == 0:  # if the remainder of the division operation is equal to 0\n",
    "        print ('This is even: ', x)\n",
    "    else:\n",
    "        print ('This is odd: ', x)\n",
    "    x = x+1  # increase the iterator value by 1"
   ]
  },
  {
   "cell_type": "code",
   "execution_count": 13,
   "id": "4eafb351",
   "metadata": {},
   "outputs": [
    {
     "name": "stdout",
     "output_type": "stream",
     "text": [
      "20\n"
     ]
    }
   ],
   "source": [
    "even_nos = [0,2,4,6,8,10,12,14,16,18] # list of first ten even #s\n",
    "\n",
    "sum = 0 # let's initialize a variable which stores the total sum to 0\n",
    "\n",
    "i = 0\n",
    "\n",
    "while even_nos[i] < 10: # i being the indicator position of the list even_nos\n",
    "    sum = sum + even_nos[i]  # do this part \n",
    "    i = i+1 # increase the iterator value by 1 \n",
    "\n",
    "print(sum)\n",
    "    \n"
   ]
  },
  {
   "cell_type": "markdown",
   "id": "e452b230",
   "metadata": {},
   "source": [
    "## Now, try to find out how to stop a cell from executing once you create an infinite loop. Good luck :) "
   ]
  },
  {
   "cell_type": "code",
   "execution_count": null,
   "id": "dbd4d9e7",
   "metadata": {},
   "outputs": [],
   "source": []
  }
 ],
 "metadata": {
  "kernelspec": {
   "display_name": "Python 3",
   "language": "python",
   "name": "python3"
  },
  "language_info": {
   "codemirror_mode": {
    "name": "ipython",
    "version": 3
   },
   "file_extension": ".py",
   "mimetype": "text/x-python",
   "name": "python",
   "nbconvert_exporter": "python",
   "pygments_lexer": "ipython3",
   "version": "3.8.5"
  }
 },
 "nbformat": 4,
 "nbformat_minor": 5
}
