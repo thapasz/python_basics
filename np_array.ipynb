{
 "cells": [
  {
   "cell_type": "code",
   "execution_count": 60,
   "id": "2a46b8cc",
   "metadata": {},
   "outputs": [
    {
     "data": {
      "text/plain": [
       "array([0., 0.])"
      ]
     },
     "execution_count": 60,
     "metadata": {},
     "output_type": "execute_result"
    }
   ],
   "source": [
    "import numpy as np \n",
    "import skimage\n",
    "import matplotlib.pyplot as plt\n",
    "\n",
    "a = np.zeros(2)\n",
    "a"
   ]
  },
  {
   "cell_type": "code",
   "execution_count": 57,
   "id": "55af650c",
   "metadata": {},
   "outputs": [
    {
     "data": {
      "text/plain": [
       "array([0., 0.])"
      ]
     },
     "execution_count": 57,
     "metadata": {},
     "output_type": "execute_result"
    }
   ],
   "source": [
    "a"
   ]
  },
  {
   "cell_type": "code",
   "execution_count": 50,
   "id": "bbc3226d",
   "metadata": {},
   "outputs": [
    {
     "data": {
      "text/plain": [
       "(3,)"
      ]
     },
     "execution_count": 50,
     "metadata": {},
     "output_type": "execute_result"
    }
   ],
   "source": [
    "a.shape"
   ]
  },
  {
   "cell_type": "code",
   "execution_count": 62,
   "id": "0680a488",
   "metadata": {},
   "outputs": [
    {
     "data": {
      "text/plain": [
       "array([1., 1., 1., 1., 1., 1., 1., 1., 1., 1.])"
      ]
     },
     "execution_count": 62,
     "metadata": {},
     "output_type": "execute_result"
    }
   ],
   "source": [
    "z = np.ones(10)\n",
    "z"
   ]
  },
  {
   "cell_type": "code",
   "execution_count": 63,
   "id": "0a270238",
   "metadata": {
    "scrolled": true
   },
   "outputs": [
    {
     "data": {
      "text/plain": [
       "array([[1.],\n",
       "       [1.],\n",
       "       [1.],\n",
       "       [1.],\n",
       "       [1.],\n",
       "       [1.],\n",
       "       [1.],\n",
       "       [1.],\n",
       "       [1.],\n",
       "       [1.]])"
      ]
     },
     "execution_count": 63,
     "metadata": {},
     "output_type": "execute_result"
    }
   ],
   "source": [
    "z.shape = (10,1)\n",
    "z"
   ]
  },
  {
   "cell_type": "code",
   "execution_count": 64,
   "id": "775a07b3",
   "metadata": {},
   "outputs": [
    {
     "data": {
      "text/plain": [
       "(10, 1)"
      ]
     },
     "execution_count": 64,
     "metadata": {},
     "output_type": "execute_result"
    }
   ],
   "source": [
    "z.shape"
   ]
  },
  {
   "cell_type": "code",
   "execution_count": 9,
   "id": "1b3f2d7a",
   "metadata": {},
   "outputs": [],
   "source": [
    "z = np.array([10,20])"
   ]
  },
  {
   "cell_type": "code",
   "execution_count": 10,
   "id": "6c9ade2a",
   "metadata": {},
   "outputs": [
    {
     "data": {
      "text/plain": [
       "array([10, 20])"
      ]
     },
     "execution_count": 10,
     "metadata": {},
     "output_type": "execute_result"
    }
   ],
   "source": [
    "z"
   ]
  },
  {
   "cell_type": "code",
   "execution_count": 11,
   "id": "c756d85a",
   "metadata": {},
   "outputs": [
    {
     "data": {
      "text/plain": [
       "array([1, 2, 3, 4, 5])"
      ]
     },
     "execution_count": 11,
     "metadata": {},
     "output_type": "execute_result"
    }
   ],
   "source": [
    "z_lst = [1,2,3,4,5]\n",
    "z = np.array(z_lst)\n",
    "z\n"
   ]
  },
  {
   "cell_type": "code",
   "execution_count": 17,
   "id": "7b67c894",
   "metadata": {},
   "outputs": [
    {
     "data": {
      "text/plain": [
       "array([ True,  True, False, False, False])"
      ]
     },
     "execution_count": 17,
     "metadata": {},
     "output_type": "execute_result"
    }
   ],
   "source": [
    "z < 3"
   ]
  },
  {
   "cell_type": "code",
   "execution_count": 18,
   "id": "f6ce3aae",
   "metadata": {},
   "outputs": [
    {
     "data": {
      "text/plain": [
       "array([4, 5])"
      ]
     },
     "execution_count": 18,
     "metadata": {},
     "output_type": "execute_result"
    }
   ],
   "source": [
    "z[z > 3]"
   ]
  },
  {
   "cell_type": "code",
   "execution_count": 20,
   "id": "7f3e6a2b",
   "metadata": {},
   "outputs": [
    {
     "data": {
      "text/plain": [
       "array([ 7,  9, 11, 13, 15])"
      ]
     },
     "execution_count": 20,
     "metadata": {},
     "output_type": "execute_result"
    }
   ],
   "source": [
    "a_array = np.array([1,2,3,4,5])\n",
    "b_array = np.array([6,7,8,9,10])\n",
    "\n",
    "tot = a_array + b_array\n",
    "\n",
    "tot"
   ]
  },
  {
   "cell_type": "code",
   "execution_count": 21,
   "id": "3deecb0f",
   "metadata": {},
   "outputs": [],
   "source": [
    "#lets train some machine learning model = based on coursera "
   ]
  },
  {
   "cell_type": "code",
   "execution_count": 79,
   "id": "b7f4aab9",
   "metadata": {},
   "outputs": [
    {
     "name": "stdout",
     "output_type": "stream",
     "text": [
      "x_training:[1 3]\n",
      "x_train.shape: (2,)\n",
      "Number of training examples is: 2\n"
     ]
    }
   ],
   "source": [
    "x_train = np.array([1, 3])\n",
    "y_train = np.array([50000, 80000])\n",
    "\n",
    "print(f'x_training:{x_train}')\n",
    "print(f\"x_train.shape: {x_train.shape}\")\n",
    "\n",
    "m = x_train.shape[0]\n",
    "print(f\"Number of training examples is: {m}\")"
   ]
  },
  {
   "cell_type": "code",
   "execution_count": 88,
   "id": "8010898f",
   "metadata": {},
   "outputs": [
    {
     "data": {
      "image/png": "[encoded data removed]",
      "text/plain": [
       "<Figure size 640x480 with 1 Axes>"
      ]
     },
     "metadata": {},
     "output_type": "display_data"
    }
   ],
   "source": [
    "#simple plot \n",
    "# Plot the data points\n",
    "plt.scatter(x_train, y_train, marker='x', c='r')\n",
    "# Set the title\n",
    "plt.title(\"retirement investment\")\n",
    "# Set the y-axis label\n",
    "plt.ylabel('monthly returns after 10 years')\n",
    "# Set the x-axis label\n",
    "plt.xlabel('initial investment in millions')\n",
    "plt.show()"
   ]
  },
  {
   "cell_type": "code",
   "execution_count": 91,
   "id": "bc780d03",
   "metadata": {},
   "outputs": [
    {
     "name": "stdout",
     "output_type": "stream",
     "text": [
      "w: 15000\n",
      "b: 30000\n"
     ]
    }
   ],
   "source": [
    "w = 15000\n",
    "b = 30000\n",
    "print(f\"w: {w}\")\n",
    "print(f\"b: {b}\")"
   ]
  },
  {
   "cell_type": "markdown",
   "id": "70752a77",
   "metadata": {},
   "source": [
    "#Model Function#"
   ]
  },
  {
   "cell_type": "code",
   "execution_count": 92,
   "id": "31b2eaa9",
   "metadata": {},
   "outputs": [],
   "source": [
    "def compute_model_output(x,w,b):\n",
    "    m = x.shape[0] #get the shape of the array\n",
    "    f_wb = np.zeros(m) # this is to get the range below 0,1 and so on\n",
    "    for i in range(m):\n",
    "        f_wb[i] = w * x[i] + b\n",
    "        \n",
    "    return f_wb"
   ]
  },
  {
   "cell_type": "code",
   "execution_count": 93,
   "id": "f4a89931",
   "metadata": {},
   "outputs": [
    {
     "data": {
      "image/png": "[encoded data removed]",
      "text/plain": [
       "<Figure size 640x480 with 1 Axes>"
      ]
     },
     "metadata": {},
     "output_type": "display_data"
    }
   ],
   "source": [
    "tmp_f_wb = compute_model_output(x_train, w, b)\n",
    "\n",
    "plt.plot(x_train, tmp_f_wb, c = 'b', label = 'Our prediction')\n",
    "\n",
    "plt.scatter(x_train, y_train, marker = 'x', c = 'r', label = 'Actual Values')\n",
    "\n",
    "plt.title(\"retirement investment\")\n",
    "# Set the y-axis label\n",
    "plt.ylabel('monthly returns after 10 years')\n",
    "# Set the x-axis label\n",
    "plt.xlabel('initial investment in millions')\n",
    "plt.legend()\n",
    "plt.show()\n"
   ]
  },
  {
   "cell_type": "code",
   "execution_count": null,
   "id": "6662720a",
   "metadata": {},
   "outputs": [],
   "source": []
  }
 ],
 "metadata": {
  "kernelspec": {
   "display_name": "Python 3 (ipykernel)",
   "language": "python",
   "name": "python3"
  },
  "language_info": {
   "codemirror_mode": {
    "name": "ipython",
    "version": 3
   },
   "file_extension": ".py",
   "mimetype": "text/x-python",
   "name": "python",
   "nbconvert_exporter": "python",
   "pygments_lexer": "ipython3",
   "version": "3.9.18"
  }
 },
 "nbformat": 4,
 "nbformat_minor": 5
}
