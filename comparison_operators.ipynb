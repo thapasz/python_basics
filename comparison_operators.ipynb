{
 "cells": [
  {
   "cell_type": "markdown",
   "id": "fabulous-pregnancy",
   "metadata": {},
   "source": [
    "## Comparison Operators: basically allows for comparisons between variables ##\n"
   ]
  },
  {
   "cell_type": "markdown",
   "id": "adjusted-multiple",
   "metadata": {},
   "source": [
    "Equal"
   ]
  },
  {
   "cell_type": "code",
   "execution_count": 11,
   "id": "equal-pipeline",
   "metadata": {},
   "outputs": [],
   "source": [
    "a = (\"cat\")\n",
    "b = (\"cat\")\n",
    "c = (\"dog\")"
   ]
  },
  {
   "cell_type": "code",
   "execution_count": 12,
   "id": "distant-startup",
   "metadata": {},
   "outputs": [
    {
     "data": {
      "text/plain": [
       "True"
      ]
     },
     "execution_count": 12,
     "metadata": {},
     "output_type": "execute_result"
    }
   ],
   "source": [
    "a == b \n",
    "\n",
    "#This means that variable on the right (a) is equal to the variable on the left (b)"
   ]
  },
  {
   "cell_type": "code",
   "execution_count": 13,
   "id": "sunrise-collection",
   "metadata": {},
   "outputs": [
    {
     "data": {
      "text/plain": [
       "True"
      ]
     },
     "execution_count": 13,
     "metadata": {},
     "output_type": "execute_result"
    }
   ],
   "source": [
    "1 == 1 "
   ]
  },
  {
   "cell_type": "code",
   "execution_count": 14,
   "id": "operating-royal",
   "metadata": {},
   "outputs": [
    {
     "data": {
      "text/plain": [
       "False"
      ]
     },
     "execution_count": 14,
     "metadata": {},
     "output_type": "execute_result"
    }
   ],
   "source": [
    "a == c # a is not equal to c, so the boolean output is false "
   ]
  },
  {
   "cell_type": "markdown",
   "id": "caring-credits",
   "metadata": {},
   "source": [
    "Not Equal"
   ]
  },
  {
   "cell_type": "code",
   "execution_count": 25,
   "id": "retained-diagnosis",
   "metadata": {},
   "outputs": [
    {
     "data": {
      "text/plain": [
       "True"
      ]
     },
     "execution_count": 25,
     "metadata": {},
     "output_type": "execute_result"
    }
   ],
   "source": [
    "1 != 2 # Notice the sign for not equal : an exclamation mark and an equal sign together.. Fancy huh?"
   ]
  },
  {
   "cell_type": "code",
   "execution_count": 16,
   "id": "genetic-arizona",
   "metadata": {},
   "outputs": [
    {
     "data": {
      "text/plain": [
       "True"
      ]
     },
     "execution_count": 16,
     "metadata": {},
     "output_type": "execute_result"
    }
   ],
   "source": [
    "a != c"
   ]
  },
  {
   "cell_type": "markdown",
   "id": "naked-glenn",
   "metadata": {},
   "source": [
    "## Other basic operators ##"
   ]
  },
  {
   "cell_type": "code",
   "execution_count": 17,
   "id": "minor-closure",
   "metadata": {},
   "outputs": [
    {
     "data": {
      "text/plain": [
       "False"
      ]
     },
     "execution_count": 17,
     "metadata": {},
     "output_type": "execute_result"
    }
   ],
   "source": [
    "1 > 2 # Greater than "
   ]
  },
  {
   "cell_type": "code",
   "execution_count": 18,
   "id": "nearby-coast",
   "metadata": {},
   "outputs": [
    {
     "data": {
      "text/plain": [
       "False"
      ]
     },
     "execution_count": 18,
     "metadata": {},
     "output_type": "execute_result"
    }
   ],
   "source": [
    "2 < 1 # Less than "
   ]
  },
  {
   "cell_type": "code",
   "execution_count": 20,
   "id": "fossil-subject",
   "metadata": {},
   "outputs": [
    {
     "data": {
      "text/plain": [
       "False"
      ]
     },
     "execution_count": 20,
     "metadata": {},
     "output_type": "execute_result"
    }
   ],
   "source": [
    "1 >= 2 # Greater than or equal to (Is 1 greater than or equal to 2?)"
   ]
  },
  {
   "cell_type": "code",
   "execution_count": 21,
   "id": "endless-claim",
   "metadata": {},
   "outputs": [
    {
     "data": {
      "text/plain": [
       "True"
      ]
     },
     "execution_count": 21,
     "metadata": {},
     "output_type": "execute_result"
    }
   ],
   "source": [
    "2 >= 1 # Greater than or equal to (Is 2 greater than or equal to 1?)"
   ]
  },
  {
   "cell_type": "code",
   "execution_count": 23,
   "id": "romance-twenty",
   "metadata": {},
   "outputs": [
    {
     "data": {
      "text/plain": [
       "True"
      ]
     },
     "execution_count": 23,
     "metadata": {},
     "output_type": "execute_result"
    }
   ],
   "source": [
    "1 <= 2 # Less than or equal to (Is 1 less than or equal to 2?)"
   ]
  },
  {
   "cell_type": "code",
   "execution_count": 24,
   "id": "amazing-marks",
   "metadata": {},
   "outputs": [
    {
     "data": {
      "text/plain": [
       "True"
      ]
     },
     "execution_count": 24,
     "metadata": {},
     "output_type": "execute_result"
    }
   ],
   "source": [
    "1 <= 1 # Less than or equal to (Is 1 less than or equal to 1?)"
   ]
  },
  {
   "cell_type": "markdown",
   "id": "diagnostic-daughter",
   "metadata": {},
   "source": [
    "As you might have noticed, greater than or equal to and less than or equal to are OR operators. If one of the conditions is satisfied, the outcome will be True "
   ]
  },
  {
   "cell_type": "markdown",
   "id": "equipped-works",
   "metadata": {},
   "source": [
    "This becomes a very essential component of logic in Python programming, which forms the base for various loops. "
   ]
  }
 ],
 "metadata": {
  "kernelspec": {
   "display_name": "Python 3",
   "language": "python",
   "name": "python3"
  },
  "language_info": {
   "codemirror_mode": {
    "name": "ipython",
    "version": 3
   },
   "file_extension": ".py",
   "mimetype": "text/x-python",
   "name": "python",
   "nbconvert_exporter": "python",
   "pygments_lexer": "ipython3",
   "version": "3.8.5"
  }
 },
 "nbformat": 4,
 "nbformat_minor": 5
}
