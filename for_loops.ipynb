{
 "cells": [
  {
   "cell_type": "markdown",
   "id": "987dd1f7",
   "metadata": {},
   "source": [
    "## for_loops: basically used to iterate through the items in a given list. In python, iteration can be done over python data types such as lists, strings, tuples and dictionary (later 2 not included in this part)"
   ]
  },
  {
   "cell_type": "code",
   "execution_count": 3,
   "id": "f0048d89",
   "metadata": {},
   "outputs": [
    {
     "name": "stdout",
     "output_type": "stream",
     "text": [
      "Adam\n",
      "George\n",
      "Pedro\n"
     ]
    }
   ],
   "source": [
    "students = [\"Adam\", \"George\", \"Pedro\"]\n",
    "for elements in students:\n",
    "    print (elements)"
   ]
  },
  {
   "cell_type": "markdown",
   "id": "cc22bc07",
   "metadata": {},
   "source": [
    "In the example above, it could be cumbersome to type print statement with each of the elements in the given list. Using for loop to iterate creates a short and much more readable code. NOTE that the code block basically is following this pattern: \"for elements in list:\n",
    "                command to perform something\""
   ]
  },
  {
   "cell_type": "code",
   "execution_count": 4,
   "id": "11055eaf",
   "metadata": {},
   "outputs": [
    {
     "name": "stdout",
     "output_type": "stream",
     "text": [
      "99\n",
      "100\n",
      "98\n",
      "60\n"
     ]
    }
   ],
   "source": [
    "score = [99, 100, 98, 60]\n",
    "for nums in score:\n",
    "    print (nums)"
   ]
  },
  {
   "cell_type": "code",
   "execution_count": 6,
   "id": "f385e898",
   "metadata": {},
   "outputs": [
    {
     "name": "stdout",
     "output_type": "stream",
     "text": [
      "99\n",
      "199\n",
      "297\n",
      "357\n"
     ]
    }
   ],
   "source": [
    "score_sum = 0 #Lets create a new variable to tally the total score and initialize it to 0\n",
    "\n",
    "for nums in score:\n",
    "    score_sum = score_sum + nums  #the total score is the sum of each individual score\n",
    "\n",
    "print (score_sum)  #print the final score"
   ]
  },
  {
   "cell_type": "code",
   "execution_count": 16,
   "id": "e7aa69a8",
   "metadata": {},
   "outputs": [
    {
     "name": "stdout",
     "output_type": "stream",
     "text": [
      "0\n",
      "1\n",
      "2\n",
      "3\n",
      "4\n"
     ]
    }
   ],
   "source": [
    "n = 5\n",
    "for i in range(0,n): #range function gives us a range of numbers between two selected numbers\n",
    "    print (i)"
   ]
  },
  {
   "cell_type": "code",
   "execution_count": 10,
   "id": "82c48897",
   "metadata": {},
   "outputs": [
    {
     "name": "stdout",
     "output_type": "stream",
     "text": [
      "[0, 2, 4, 6, 8]\n"
     ]
    }
   ],
   "source": [
    "## Let's us create a new variable which gives us a range of first five even numbers\n",
    "nos = list(range(0,10,2)) ##range function in python here gives us a range of number starting at 0 and ending at 10, \n",
    "                        ## while increasing by 2 in every step\n",
    "print(nos)"
   ]
  },
  {
   "cell_type": "code",
   "execution_count": 15,
   "id": "61960f1d",
   "metadata": {},
   "outputs": [
    {
     "name": "stdout",
     "output_type": "stream",
     "text": [
      "20\n"
     ]
    }
   ],
   "source": [
    "## Let's find the sum of the first 5 even numbers from above [0 + 2 + 4 + 6 + 8 = 20]\n",
    "sum = 0\n",
    "for i in nos: # from above \n",
    "    sum = sum + i\n",
    "print (sum)\n",
    "    "
   ]
  },
  {
   "cell_type": "code",
   "execution_count": 17,
   "id": "b45f4779",
   "metadata": {
    "scrolled": true
   },
   "outputs": [
    {
     "name": "stdout",
     "output_type": "stream",
     "text": [
      "H\n",
      "o\n",
      "n\n",
      "d\n",
      "a\n"
     ]
    }
   ],
   "source": [
    "# for with strings\n",
    "car = \"Honda\"\n",
    "for letter in car:\n",
    "    print(letter)"
   ]
  },
  {
   "cell_type": "markdown",
   "id": "edc846c2",
   "metadata": {},
   "source": [
    "## Now, try to find the sum of first 5 odd numbers using for loop. Remember, there will be more than one way to do this. Good luck :) "
   ]
  },
  {
   "cell_type": "code",
   "execution_count": null,
   "id": "bda3e41c",
   "metadata": {},
   "outputs": [],
   "source": []
  }
 ],
 "metadata": {
  "kernelspec": {
   "display_name": "Python 3",
   "language": "python",
   "name": "python3"
  },
  "language_info": {
   "codemirror_mode": {
    "name": "ipython",
    "version": 3
   },
   "file_extension": ".py",
   "mimetype": "text/x-python",
   "name": "python",
   "nbconvert_exporter": "python",
   "pygments_lexer": "ipython3",
   "version": "3.8.8"
  }
 },
 "nbformat": 4,
 "nbformat_minor": 5
}
