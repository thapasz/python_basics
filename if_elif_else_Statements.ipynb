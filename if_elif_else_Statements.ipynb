{
 "cells": [
  {
   "cell_type": "markdown",
   "id": "12f670b5",
   "metadata": {},
   "source": [
    "# If_Else_Statements: basically used for performing actions based on certain conditions. It forms a powerful part of the programming logic. "
   ]
  },
  {
   "cell_type": "code",
   "execution_count": 1,
   "id": "f45a052d",
   "metadata": {},
   "outputs": [
    {
     "name": "stdout",
     "output_type": "stream",
     "text": [
      " a is equal to 1\n"
     ]
    }
   ],
   "source": [
    "a = 1\n",
    "if a == 1: # pay attention to this colon here as it is vital part of identation in python\n",
    "    print (\" a is equal to 1\")"
   ]
  },
  {
   "cell_type": "code",
   "execution_count": 4,
   "id": "60374858",
   "metadata": {},
   "outputs": [
    {
     "name": "stdout",
     "output_type": "stream",
     "text": [
      "a is not greater than b\n",
      "b is greater than a\n"
     ]
    }
   ],
   "source": [
    "a = 1\n",
    "b = 3 \n",
    "if a > b:\n",
    "    print (\"a is greater than b\")\n",
    "else:\n",
    "    print (\"a is not greater than b\")\n",
    "    print (\"b is greater than a\")"
   ]
  },
  {
   "cell_type": "markdown",
   "id": "ce450502",
   "metadata": {},
   "source": [
    "In the example above, since a is smaller than b, our if condition is not met. So, the logic progresses with else condition instead. In both cases, notice the indentation of the code block. "
   ]
  },
  {
   "cell_type": "code",
   "execution_count": 6,
   "id": "2ebf997d",
   "metadata": {},
   "outputs": [
    {
     "name": "stdout",
     "output_type": "stream",
     "text": [
      "a is less than b\n"
     ]
    }
   ],
   "source": [
    "# You can also have situation where there are three cases instead of two. For those time, we have \"elif\"\n",
    "\n",
    "a = 1\n",
    "b = 3\n",
    "if a < b:\n",
    "    print (\"a is less than b\")\n",
    "elif a == b:\n",
    "    print (\"a is equal to b\")\n",
    "else:\n",
    "    print (\" a is greater than b\")\n"
   ]
  },
  {
   "cell_type": "markdown",
   "id": "9fa2e171",
   "metadata": {},
   "source": [
    "In the example above, first the \"if\" condition is checked. Since it is true, the print statement is executed. It should also be noted that there can be as many \"elif\" statements as needed, followed by one \"else\" statement to complete the code. "
   ]
  },
  {
   "cell_type": "code",
   "execution_count": 8,
   "id": "fcda9be0",
   "metadata": {},
   "outputs": [
    {
     "name": "stdout",
     "output_type": "stream",
     "text": [
      "The name is Carlos\n"
     ]
    }
   ],
   "source": [
    "# One more\n",
    "name = \"Carlos\"\n",
    "if name == \"Carlos\":\n",
    "    print (\"The name is Carlos\")\n",
    "elif name == \"Alex\":\n",
    "    print (\"The name is Alex\")\n",
    "else:\n",
    "    print (\"The name is not on the list\")"
   ]
  },
  {
   "cell_type": "markdown",
   "id": "31d4ac9d",
   "metadata": {},
   "source": [
    "## Now, try to create your own scenarios where you could use if, elif and else statements. Good luck :) "
   ]
  },
  {
   "cell_type": "code",
   "execution_count": null,
   "id": "e6c176d3",
   "metadata": {},
   "outputs": [],
   "source": []
  }
 ],
 "metadata": {
  "kernelspec": {
   "display_name": "Python 3",
   "language": "python",
   "name": "python3"
  },
  "language_info": {
   "codemirror_mode": {
    "name": "ipython",
    "version": 3
   },
   "file_extension": ".py",
   "mimetype": "text/x-python",
   "name": "python",
   "nbconvert_exporter": "python",
   "pygments_lexer": "ipython3",
   "version": "3.8.8"
  }
 },
 "nbformat": 4,
 "nbformat_minor": 5
}
